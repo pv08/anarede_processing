{
 "cells": [
  {
   "cell_type": "code",
   "execution_count": 6,
   "id": "6588e4ce",
   "metadata": {},
   "outputs": [],
   "source": [
    "import matplotlib.pyplot as plt"
   ]
  },
  {
   "cell_type": "code",
   "execution_count": 7,
   "id": "a12be6be",
   "metadata": {},
   "outputs": [],
   "source": [
    "import argparse"
   ]
  },
  {
   "cell_type": "code",
   "execution_count": 8,
   "id": "cf6590db",
   "metadata": {},
   "outputs": [],
   "source": [
    "from src.anarede import Anarede\n",
    "from src.utils.ana_dict import AnaredeDict\n",
    "from src.utils.functions import write_json"
   ]
  },
  {
   "cell_type": "code",
   "execution_count": 11,
   "id": "7a18f69d",
   "metadata": {},
   "outputs": [
    {
     "name": "stderr",
     "output_type": "stream",
     "text": [
      "usage: ipykernel_launcher.py [-h] [--file FILE]\n",
      "ipykernel_launcher.py: error: unrecognized arguments: -f /Users/paulovitorbarbosaramos/Library/Jupyter/runtime/kernel-3b01bca6-200e-4fa6-ae60-bc3aecb4808c.json\n"
     ]
    },
    {
     "ename": "SystemExit",
     "evalue": "2",
     "output_type": "error",
     "traceback": [
      "An exception has occurred, use %tb to see the full traceback.\n",
      "\u001b[0;31mSystemExit\u001b[0m\u001b[0;31m:\u001b[0m 2\n"
     ]
    }
   ],
   "source": [
    "args = argparse.ArgumentParser()\n",
    "args.add_argument('--file', type=str, default='data/file.pwf')\n",
    "args = args.parse_args()\n",
    "\n",
    "anarede = Anarede(args=args)\n",
    "ana_dict = AnaredeDict(DCTE=anarede.keywords['DCTE'], DBAR=anarede.keywords['DBAR'], DLIN=anarede.keywords['DLIN'])\n",
    "ana_dict.convertRecords()\n",
    "matrix = {i:  [0 for j in range(0, len(ana_dict.convertedDBAR))] for i in range(0, len(ana_dict.convertedDBAR))}\n",
    "change = ana_dict.convertedDLIN[0].get('from') - 1\n",
    "soma_real = 0\n",
    "soma_img = 0\n",
    "for record in ana_dict.convertedDLIN:\n",
    "    get_from = record.get('from') - 1\n",
    "    get_to = record.get('to') - 1\n",
    "    impedance_real = record.get('resistence')/ ((record.get('resistence') ** 2) + (record.get('reactance') ** 2))\n",
    "    impedance_imag = (record.get('reactance')*(-1))/ ((record.get('resistence') ** 2) + (record.get('reactance') ** 2))\n",
    "    matrix[get_from][get_to] = complex(round(impedance_real, 4), round(impedance_imag, 4)) * (-1)\n",
    "    matrix[get_to][get_from] = complex(round(impedance_real, 4), round(impedance_imag, 4)) * (-1)\n",
    "\n",
    "    if get_from != change:\n",
    "        matrix[change][change] = complex(round(soma_real, 4), round(soma_img, 4))\n",
    "        change = get_from\n",
    "        soma_real = 0\n",
    "        soma_img = 0\n",
    "\n",
    "    soma_real += impedance_real\n",
    "    soma_img += impedance_imag\n",
    "latex_str = ''\n",
    "for line in matrix.keys():\n",
    "    latex_str += str(matrix[line]).replace(', ', ' & ') + \"\\\\\"\n",
    "latex_str = r\"$\\begin{vmatrix}\" + latex_str[:-1] + r\"\\end{vmatrix}$\"\n"
   ]
  },
  {
   "cell_type": "code",
   "execution_count": 10,
   "id": "bbb1f326",
   "metadata": {},
   "outputs": [
    {
     "ename": "NameError",
     "evalue": "name 'latex_str' is not defined",
     "output_type": "error",
     "traceback": [
      "\u001b[0;31m---------------------------------------------------------------------------\u001b[0m",
      "\u001b[0;31mNameError\u001b[0m                                 Traceback (most recent call last)",
      "Cell \u001b[0;32mIn[10], line 1\u001b[0m\n\u001b[0;32m----> 1\u001b[0m \u001b[43mlatex_str\u001b[49m\n",
      "\u001b[0;31mNameError\u001b[0m: name 'latex_str' is not defined"
     ]
    }
   ],
   "source": [
    "latex_str"
   ]
  }
 ],
 "metadata": {
  "kernelspec": {
   "display_name": "Python 3 (ipykernel)",
   "language": "python",
   "name": "python3"
  },
  "language_info": {
   "codemirror_mode": {
    "name": "ipython",
    "version": 3
   },
   "file_extension": ".py",
   "mimetype": "text/x-python",
   "name": "python",
   "nbconvert_exporter": "python",
   "pygments_lexer": "ipython3",
   "version": "3.10.10"
  }
 },
 "nbformat": 4,
 "nbformat_minor": 5
}
